{
 "cells": [
  {
   "cell_type": "markdown",
   "id": "a403d80a",
   "metadata": {},
   "source": [
    "\n",
    "**Prueba Técnica Data Engineer**\n",
    "\n",
    "Presentado por: Buitrago Castillo Zuly\n",
    "\n",
    "---\n",
    "**Proyecto:** \n",
    "Sistema de consultas \n",
    "\n",
    "---"
   ]
  },
  {
   "cell_type": "code",
   "execution_count": 77,
   "id": "e1776ed8",
   "metadata": {},
   "outputs": [],
   "source": [
    "# modulos\n",
    "from pyathena import connect\n",
    "import pandas as pd\n",
    "import matplotlib.pyplot as plt\n",
    "import seaborn as sns\n",
    "import plotly.graph_objects as go\n",
    "from plotly.subplots import make_subplots"
   ]
  },
  {
   "cell_type": "code",
   "execution_count": null,
   "id": "5652f7d0",
   "metadata": {},
   "outputs": [],
   "source": [
    "#conexión\n",
    "conn = connect(s3_staging_dir='s3://technicaltestbucket/transformed_data/',\n",
    "region_name='us-east-2')"
   ]
  },
  {
   "cell_type": "markdown",
   "id": "c8a2d2a7",
   "metadata": {},
   "source": [
    "## Consultas"
   ]
  },
  {
   "cell_type": "markdown",
   "id": "c861ab45",
   "metadata": {},
   "source": [
    "### 1. ¿Cómo están distribuidos los registros por ciudad?"
   ]
  },
  {
   "cell_type": "code",
   "execution_count": 34,
   "id": "f7a0e343",
   "metadata": {},
   "outputs": [
    {
     "name": "stdout",
     "output_type": "stream",
     "text": [
      "Solo muestra los primeros 10 registros, esta consulta tiene en total 55 registros\n"
     ]
    },
    {
     "data": {
      "text/html": [
       "<div>\n",
       "<style scoped>\n",
       "    .dataframe tbody tr th:only-of-type {\n",
       "        vertical-align: middle;\n",
       "    }\n",
       "\n",
       "    .dataframe tbody tr th {\n",
       "        vertical-align: top;\n",
       "    }\n",
       "\n",
       "    .dataframe thead th {\n",
       "        text-align: right;\n",
       "    }\n",
       "</style>\n",
       "<table border=\"1\" class=\"dataframe\">\n",
       "  <thead>\n",
       "    <tr style=\"text-align: right;\">\n",
       "      <th></th>\n",
       "      <th>ciudad</th>\n",
       "      <th>registros_ciudad</th>\n",
       "    </tr>\n",
       "  </thead>\n",
       "  <tbody>\n",
       "    <tr>\n",
       "      <th>0</th>\n",
       "      <td>Envigado</td>\n",
       "      <td>63</td>\n",
       "    </tr>\n",
       "    <tr>\n",
       "      <th>1</th>\n",
       "      <td>Sabaneta</td>\n",
       "      <td>57</td>\n",
       "    </tr>\n",
       "    <tr>\n",
       "      <th>2</th>\n",
       "      <td>Bogota</td>\n",
       "      <td>51</td>\n",
       "    </tr>\n",
       "    <tr>\n",
       "      <th>3</th>\n",
       "      <td>Medellín</td>\n",
       "      <td>43</td>\n",
       "    </tr>\n",
       "    <tr>\n",
       "      <th>4</th>\n",
       "      <td>Cartagena</td>\n",
       "      <td>34</td>\n",
       "    </tr>\n",
       "    <tr>\n",
       "      <th>5</th>\n",
       "      <td>Barranquilla</td>\n",
       "      <td>31</td>\n",
       "    </tr>\n",
       "    <tr>\n",
       "      <th>6</th>\n",
       "      <td>Bello</td>\n",
       "      <td>21</td>\n",
       "    </tr>\n",
       "    <tr>\n",
       "      <th>7</th>\n",
       "      <td>Armenia</td>\n",
       "      <td>19</td>\n",
       "    </tr>\n",
       "    <tr>\n",
       "      <th>8</th>\n",
       "      <td>Rionegro</td>\n",
       "      <td>18</td>\n",
       "    </tr>\n",
       "    <tr>\n",
       "      <th>9</th>\n",
       "      <td>Itagüí</td>\n",
       "      <td>16</td>\n",
       "    </tr>\n",
       "  </tbody>\n",
       "</table>\n",
       "</div>"
      ],
      "text/plain": [
       "         ciudad  registros_ciudad\n",
       "0      Envigado                63\n",
       "1      Sabaneta                57\n",
       "2        Bogota                51\n",
       "3      Medellín                43\n",
       "4     Cartagena                34\n",
       "5  Barranquilla                31\n",
       "6         Bello                21\n",
       "7       Armenia                19\n",
       "8      Rionegro                18\n",
       "9        Itagüí                16"
      ]
     },
     "execution_count": 34,
     "metadata": {},
     "output_type": "execute_result"
    }
   ],
   "source": [
    "View_registros_ciudad = pd.read_sql('SELECT * FROM \"inmuebles\".\"View_registros_ciudad\" ', conn)\n",
    "print('Solo muestra los primeros 10 registros, esta consulta tiene en total',len(view_value_Max_Min.index),'registros')\n",
    "View_registros_ciudad.head(10)"
   ]
  },
  {
   "cell_type": "markdown",
   "id": "c23d4fa7",
   "metadata": {},
   "source": [
    "### ¿Cuál es el valor de venta y arriendo máximo y mínimo por ciudad?"
   ]
  },
  {
   "cell_type": "code",
   "execution_count": 52,
   "id": "1d43b9ec",
   "metadata": {},
   "outputs": [
    {
     "name": "stdout",
     "output_type": "stream",
     "text": [
      "Solo muestra los primeros 10 registros, esta consulta tiene en total 55 registros\n"
     ]
    },
    {
     "data": {
      "text/html": [
       "<div>\n",
       "<style scoped>\n",
       "    .dataframe tbody tr th:only-of-type {\n",
       "        vertical-align: middle;\n",
       "    }\n",
       "\n",
       "    .dataframe tbody tr th {\n",
       "        vertical-align: top;\n",
       "    }\n",
       "\n",
       "    .dataframe thead th {\n",
       "        text-align: right;\n",
       "    }\n",
       "</style>\n",
       "<table border=\"1\" class=\"dataframe\">\n",
       "  <thead>\n",
       "    <tr style=\"text-align: right;\">\n",
       "      <th></th>\n",
       "      <th>ciudad</th>\n",
       "      <th>max_venta</th>\n",
       "      <th>min_venta</th>\n",
       "      <th>max_arriendo</th>\n",
       "      <th>min_arriendo</th>\n",
       "    </tr>\n",
       "  </thead>\n",
       "  <tbody>\n",
       "    <tr>\n",
       "      <th>0</th>\n",
       "      <td>Armenia</td>\n",
       "      <td>$430.0 M</td>\n",
       "      <td>$100.0 M</td>\n",
       "      <td>$1.4 M</td>\n",
       "      <td>$620K</td>\n",
       "    </tr>\n",
       "    <tr>\n",
       "      <th>1</th>\n",
       "      <td>Barrancabermeja</td>\n",
       "      <td>$110.0 M</td>\n",
       "      <td>$110.0 M</td>\n",
       "      <td>$0.0</td>\n",
       "      <td>$0.0</td>\n",
       "    </tr>\n",
       "    <tr>\n",
       "      <th>2</th>\n",
       "      <td>Barranquilla</td>\n",
       "      <td>$980.0 M</td>\n",
       "      <td>$155.0 M</td>\n",
       "      <td>$4.5 M</td>\n",
       "      <td>$950K</td>\n",
       "    </tr>\n",
       "    <tr>\n",
       "      <th>3</th>\n",
       "      <td>Bello</td>\n",
       "      <td>$360.0 M</td>\n",
       "      <td>$119.8 M</td>\n",
       "      <td>$1.1 M</td>\n",
       "      <td>$680K</td>\n",
       "    </tr>\n",
       "    <tr>\n",
       "      <th>4</th>\n",
       "      <td>Bogota</td>\n",
       "      <td>$3500.0 M</td>\n",
       "      <td>$205.0 M</td>\n",
       "      <td>$10.0 M</td>\n",
       "      <td>$1.2 M</td>\n",
       "    </tr>\n",
       "    <tr>\n",
       "      <th>5</th>\n",
       "      <td>Bolívar</td>\n",
       "      <td>$698.0 M</td>\n",
       "      <td>$698.0 M</td>\n",
       "      <td>$0.0</td>\n",
       "      <td>$0.0</td>\n",
       "    </tr>\n",
       "    <tr>\n",
       "      <th>6</th>\n",
       "      <td>Cajicá</td>\n",
       "      <td>$2300.0 M</td>\n",
       "      <td>$190.0 M</td>\n",
       "      <td>$0.0</td>\n",
       "      <td>$0.0</td>\n",
       "    </tr>\n",
       "    <tr>\n",
       "      <th>7</th>\n",
       "      <td>Caldas</td>\n",
       "      <td>$0.0</td>\n",
       "      <td>$0.0</td>\n",
       "      <td>$850K</td>\n",
       "      <td>$850K</td>\n",
       "    </tr>\n",
       "    <tr>\n",
       "      <th>8</th>\n",
       "      <td>Cali</td>\n",
       "      <td>$410.0 M</td>\n",
       "      <td>$128.0 M</td>\n",
       "      <td>$1.6 M</td>\n",
       "      <td>$700K</td>\n",
       "    </tr>\n",
       "    <tr>\n",
       "      <th>9</th>\n",
       "      <td>Candelaria</td>\n",
       "      <td>$109.0 M</td>\n",
       "      <td>$109.0 M</td>\n",
       "      <td>$0.0</td>\n",
       "      <td>$0.0</td>\n",
       "    </tr>\n",
       "  </tbody>\n",
       "</table>\n",
       "</div>"
      ],
      "text/plain": [
       "            ciudad  max_venta min_venta max_arriendo min_arriendo\n",
       "0          Armenia   $430.0 M  $100.0 M       $1.4 M        $620K\n",
       "1  Barrancabermeja   $110.0 M  $110.0 M         $0.0         $0.0\n",
       "2     Barranquilla   $980.0 M  $155.0 M       $4.5 M        $950K\n",
       "3            Bello   $360.0 M  $119.8 M       $1.1 M        $680K\n",
       "4           Bogota  $3500.0 M  $205.0 M      $10.0 M       $1.2 M\n",
       "5          Bolívar   $698.0 M  $698.0 M         $0.0         $0.0\n",
       "6           Cajicá  $2300.0 M  $190.0 M         $0.0         $0.0\n",
       "7           Caldas       $0.0      $0.0        $850K        $850K\n",
       "8             Cali   $410.0 M  $128.0 M       $1.6 M        $700K\n",
       "9       Candelaria   $109.0 M  $109.0 M         $0.0         $0.0"
      ]
     },
     "execution_count": 52,
     "metadata": {},
     "output_type": "execute_result"
    }
   ],
   "source": [
    "view_value_Max_Min = pd.read_sql('SELECT * FROM \"inmuebles\".\"view_value_Max_Min\" ', conn)\n",
    "view_value_Max_Min=view_value_Max_Min.fillna(0)\n",
    "cols=['max_venta','min_venta','max_arriendo','min_arriendo']\n",
    "for col in cols:\n",
    "    view_value_Max_Min[col] = view_value_Max_Min[col].apply(lambda x: f'${x/1000000:.1f} M' if x/1000000>=1 else f'${int(x/1000)}K' if x/10000>=1 else f'${x}')\n",
    "\n",
    "print('Solo muestra los primeros 10 registros, esta consulta tiene en total',len(view_value_Max_Min.index),'registros')\n",
    "view_value_Max_Min.head(10)"
   ]
  },
  {
   "cell_type": "markdown",
   "id": "dad394cd",
   "metadata": {},
   "source": [
    "### 2. ¿Listar el top 10 de los inmuebles más caros en valor de venta que presentan información de baños, antigüedad y área?"
   ]
  },
  {
   "cell_type": "code",
   "execution_count": 71,
   "id": "478b933b",
   "metadata": {},
   "outputs": [
    {
     "data": {
      "text/html": [
       "<div>\n",
       "<style scoped>\n",
       "    .dataframe tbody tr th:only-of-type {\n",
       "        vertical-align: middle;\n",
       "    }\n",
       "\n",
       "    .dataframe tbody tr th {\n",
       "        vertical-align: top;\n",
       "    }\n",
       "\n",
       "    .dataframe thead th {\n",
       "        text-align: right;\n",
       "    }\n",
       "</style>\n",
       "<table border=\"1\" class=\"dataframe\">\n",
       "  <thead>\n",
       "    <tr style=\"text-align: right;\">\n",
       "      <th></th>\n",
       "      <th>id</th>\n",
       "      <th>valor_venta</th>\n",
       "      <th>num_banos</th>\n",
       "      <th>antiguedad</th>\n",
       "      <th>area_lote</th>\n",
       "    </tr>\n",
       "  </thead>\n",
       "  <tbody>\n",
       "    <tr>\n",
       "      <th>0</th>\n",
       "      <td>1112373</td>\n",
       "      <td>$2300.0 M</td>\n",
       "      <td>5</td>\n",
       "      <td>13</td>\n",
       "      <td>1000</td>\n",
       "    </tr>\n",
       "    <tr>\n",
       "      <th>1</th>\n",
       "      <td>1144603</td>\n",
       "      <td>$950.0 M</td>\n",
       "      <td>3</td>\n",
       "      <td>6</td>\n",
       "      <td>127</td>\n",
       "    </tr>\n",
       "    <tr>\n",
       "      <th>2</th>\n",
       "      <td>1180665</td>\n",
       "      <td>$520.0 M</td>\n",
       "      <td>3</td>\n",
       "      <td>3</td>\n",
       "      <td>132</td>\n",
       "    </tr>\n",
       "    <tr>\n",
       "      <th>3</th>\n",
       "      <td>1171538</td>\n",
       "      <td>$490.0 M</td>\n",
       "      <td>2</td>\n",
       "      <td>2</td>\n",
       "      <td>73</td>\n",
       "    </tr>\n",
       "    <tr>\n",
       "      <th>4</th>\n",
       "      <td>1186673</td>\n",
       "      <td>$395.0 M</td>\n",
       "      <td>3</td>\n",
       "      <td>10</td>\n",
       "      <td>105</td>\n",
       "    </tr>\n",
       "    <tr>\n",
       "      <th>5</th>\n",
       "      <td>1127840</td>\n",
       "      <td>$340.0 M</td>\n",
       "      <td>3</td>\n",
       "      <td>25</td>\n",
       "      <td>146</td>\n",
       "    </tr>\n",
       "    <tr>\n",
       "      <th>6</th>\n",
       "      <td>1206400</td>\n",
       "      <td>$310.0 M</td>\n",
       "      <td>3</td>\n",
       "      <td>5</td>\n",
       "      <td>108</td>\n",
       "    </tr>\n",
       "    <tr>\n",
       "      <th>7</th>\n",
       "      <td>1208585</td>\n",
       "      <td>$308.0 M</td>\n",
       "      <td>2</td>\n",
       "      <td>1</td>\n",
       "      <td>88</td>\n",
       "    </tr>\n",
       "    <tr>\n",
       "      <th>8</th>\n",
       "      <td>896747</td>\n",
       "      <td>$245.0 M</td>\n",
       "      <td>2</td>\n",
       "      <td>3</td>\n",
       "      <td>100</td>\n",
       "    </tr>\n",
       "    <tr>\n",
       "      <th>9</th>\n",
       "      <td>896749</td>\n",
       "      <td>$210.0 M</td>\n",
       "      <td>2</td>\n",
       "      <td>10</td>\n",
       "      <td>82</td>\n",
       "    </tr>\n",
       "  </tbody>\n",
       "</table>\n",
       "</div>"
      ],
      "text/plain": [
       "        id valor_venta  num_banos  antiguedad  area_lote\n",
       "0  1112373   $2300.0 M          5          13       1000\n",
       "1  1144603    $950.0 M          3           6        127\n",
       "2  1180665    $520.0 M          3           3        132\n",
       "3  1171538    $490.0 M          2           2         73\n",
       "4  1186673    $395.0 M          3          10        105\n",
       "5  1127840    $340.0 M          3          25        146\n",
       "6  1206400    $310.0 M          3           5        108\n",
       "7  1208585    $308.0 M          2           1         88\n",
       "8   896747    $245.0 M          2           3        100\n",
       "9   896749    $210.0 M          2          10         82"
      ]
     },
     "metadata": {},
     "output_type": "display_data"
    }
   ],
   "source": [
    "Inmuebles_mayor_Valor_e_informacion = pd.read_sql('SELECT * FROM \"inmuebles\".\"Inmuebles_mayor_Valor_e_informacion\" ', conn)\n",
    "Inmuebles_mayor_Valor_e_informacion['valor_venta'] = Inmuebles_mayor_Valor_e_informacion['valorventa'].apply(lambda x: f'${x/1000000:.1f} M' if x/1000000>=1 else f'${int(x/1000)}K' if x/10000>=1 else f'${x}')\n",
    "display(Inmuebles_mayor_Valor_e_informacion[['id', 'valor_venta', 'num_banos', 'antiguedad', 'area_lote']])\n"
   ]
  },
  {
   "cell_type": "code",
   "execution_count": 74,
   "id": "d189295d",
   "metadata": {},
   "outputs": [
    {
     "data": {
      "text/plain": [
       "Text(0.5, 1.0, 'Mapa de correlación')"
      ]
     },
     "execution_count": 74,
     "metadata": {},
     "output_type": "execute_result"
    },
    {
     "data": {
      "image/png": "[encoded data removed]",
      "text/plain": [
       "<Figure size 864x576 with 2 Axes>"
      ]
     },
     "metadata": {
      "needs_background": "light"
     },
     "output_type": "display_data"
    }
   ],
   "source": [
    "corr = Inmuebles_mayor_Valor_e_informacion.corr()\n",
    "fig4_1, ax = plt.subplots(figsize =(12,8))\n",
    "sns.heatmap(corr, xticklabels=corr.columns.values, yticklabels=corr.columns.values)\n",
    "plt.title('Mapa de correlación', fontsize=25, color=\"black\")\n"
   ]
  },
  {
   "cell_type": "markdown",
   "id": "0779a079",
   "metadata": {},
   "source": [
    "Se puede observar que el valaor de venta tiene una correlacion positiva con respecto al número de baños y el area del lote. la antiguedad no tiene ningún tipo de influencia con el respecto al valor del imnueble, de hecho la antiguedad con respecto a los demás datos no tiene ninguna relación fuerte sobre estas"
   ]
  },
  {
   "cell_type": "markdown",
   "id": "b8ba575d",
   "metadata": {},
   "source": [
    "### 3.Propuesta de arquitectura"
   ]
  },
  {
   "cell_type": "markdown",
   "id": "619bac51",
   "metadata": {},
   "source": [
    "<img src='https://github.com/zbuitrago/habi/blob/main/Propuesta%20de%20arquitectura.png?raw=true' />\n"
   ]
  },
  {
   "cell_type": "markdown",
   "id": "5defe1b9",
   "metadata": {},
   "source": [
    "1. Se carga la información a un bucket de S3 sin estructura\n",
    "2. Se emplea AWS Glue o tambien puede ser funciones lambda para crear el proceso de ETL\n",
    "3. El resultado del ETL se puede almacenar en un nuevo bucket S3, con los datos ya estructurados o semiestructurados\n",
    "4. Por medio de Athena se puede crear las diferentes consultas y guardaslas en vistas para reducir los costos de ejecución\n",
    "5. Estos consultas pueden ser acceder por medio de jupyter o herramientas de BI que maneja AWS, para poder a dispoción los datos para los grupos de analitica o BI "
   ]
  }
 ],
 "metadata": {
  "kernelspec": {
   "display_name": "conda_python3",
   "language": "python",
   "name": "conda_python3"
  },
  "language_info": {
   "codemirror_mode": {
    "name": "ipython",
    "version": 3
   },
   "file_extension": ".py",
   "mimetype": "text/x-python",
   "name": "python",
   "nbconvert_exporter": "python",
   "pygments_lexer": "ipython3",
   "version": "3.6.13"
  }
 },
 "nbformat": 4,
 "nbformat_minor": 5
}
