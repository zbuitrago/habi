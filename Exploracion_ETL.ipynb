{
  "nbformat": 4,
  "nbformat_minor": 0,
  "metadata": {
    "kernelspec": {
      "display_name": "Python 3",
      "language": "python",
      "name": "python3"
    },
    "language_info": {
      "codemirror_mode": {
        "name": "ipython",
        "version": 3
      },
      "file_extension": ".py",
      "mimetype": "text/x-python",
      "name": "python",
      "nbconvert_exporter": "python",
      "pygments_lexer": "ipython3",
      "version": "3.8.6"
    },
    "toc": {
      "base_numbering": 1,
      "nav_menu": {},
      "number_sections": true,
      "sideBar": true,
      "skip_h1_title": false,
      "title_cell": "Table of Contents",
      "title_sidebar": "Contents",
      "toc_cell": false,
      "toc_position": {},
      "toc_section_display": true,
      "toc_window_display": false
    },
    "colab": {
      "name": "Exploracion ETL.ipynb",
      "provenance": [],
      "collapsed_sections": []
    }
  },
  "cells": [
    {
      "cell_type": "markdown",
      "metadata": {
        "id": "nx7Ryz1YRB5e"
      },
      "source": [
        "**Prueba Técnica Data Engineer**\n",
        "\n",
        "Presentado por: Buitrago Castillo Zuly\n",
        "\n",
        "---\n",
        "**Proyecto:** \n",
        "Sistema de consultas - ETL\n",
        "\n",
        "---"
      ]
    },
    {
      "cell_type": "code",
      "metadata": {
        "id": "kRw6xjrV8paX"
      },
      "source": [
        "import pandas as pd\n",
        "import numpy as np\n",
        "import os,glob\n",
        "import pandas_profiling\n",
        "from datetime import datetime\n",
        "import datetime as dt"
      ],
      "execution_count": null,
      "outputs": []
    },
    {
      "cell_type": "markdown",
      "metadata": {
        "id": "HHHGqsyY8pac"
      },
      "source": [
        "### Carga de datos\n",
        "\n",
        "Es necesario transformar el Json entregado para que la información cargue de manera correcta cuando se procede a realizar una carga en athena\n",
        "\n",
        "Inicialmente se realiza una exploración sobre los datos cargados y las cantidades para un vez cargado se pueda validar si la carga fue exitosa"
      ]
    },
    {
      "cell_type": "code",
      "metadata": {
        "id": "zdzAA8HO9bFK"
      },
      "source": [
        "\n",
        "import pandas as pd    \n",
        "import seaborn as sns\n",
        "file='technical_test_data_analyst.json'\n",
        "data= pd.read_json(file, orient=str)\n",
        "df = pd.DataFrame(data)\n",
        "js=df.to_dict(orient='records')"
      ],
      "execution_count": null,
      "outputs": []
    },
    {
      "cell_type": "code",
      "metadata": {
        "colab": {
          "base_uri": "https://localhost:8080/"
        },
        "id": "Y4y1kIVUIk-0",
        "outputId": "f4088246-b388-4537-e56d-e88f9297e4ad"
      },
      "source": [
        "\n",
        "df.info()"
      ],
      "execution_count": null,
      "outputs": [
        {
          "output_type": "stream",
          "name": "stdout",
          "text": [
            "<class 'pandas.core.frame.DataFrame'>\n",
            "Int64Index: 1200 entries, 0 to 1199\n",
            "Data columns (total 9 columns):\n",
            " #   Column         Non-Null Count  Dtype  \n",
            "---  ------         --------------  -----  \n",
            " 0   activo         1200 non-null   int64  \n",
            " 1   fecha_inicial  1200 non-null   int64  \n",
            " 2   fecha_final    1200 non-null   int64  \n",
            " 3   latitud        743 non-null    float64\n",
            " 4   longitud       743 non-null    float64\n",
            " 5   valorventa     573 non-null    float64\n",
            " 6   valorarriendo  452 non-null    float64\n",
            " 7   data           1200 non-null   object \n",
            " 8   id             1200 non-null   int64  \n",
            "dtypes: float64(4), int64(4), object(1)\n",
            "memory usage: 93.8+ KB\n"
          ]
        }
      ]
    },
    {
      "cell_type": "code",
      "metadata": {
        "id": "oQlSQJiNmfyf"
      },
      "source": [
        "data_inmueble=df.data.copy()"
      ],
      "execution_count": null,
      "outputs": []
    },
    {
      "cell_type": "code",
      "metadata": {
        "colab": {
          "base_uri": "https://localhost:8080/"
        },
        "id": "x422vOB3nGfJ",
        "outputId": "38b07aa4-64d5-47b1-be14-301e1d7dab78"
      },
      "source": [
        "import pandas as pd    \n",
        "import seaborn as sns\n",
        "file='technical_test_data_analyst.json'\n",
        "data= pd.read_json(file)\n",
        "type(data.data)"
      ],
      "execution_count": null,
      "outputs": [
        {
          "output_type": "execute_result",
          "data": {
            "text/plain": [
              "pandas.core.series.Series"
            ]
          },
          "metadata": {},
          "execution_count": 39
        }
      ]
    },
    {
      "cell_type": "markdown",
      "metadata": {
        "id": "zyKMqDikT67G"
      },
      "source": [
        "## S3"
      ]
    },
    {
      "cell_type": "markdown",
      "metadata": {
        "id": "gKs0lvWMg39d"
      },
      "source": [
        "###Libraries & keys\n",
        "\n",
        "No dejamos las claves sobre el cuadernillo, si no estas se disponen en un archivo.txt que se ejecuta de manera local para la lectura de estas"
      ]
    },
    {
      "cell_type": "code",
      "metadata": {
        "id": "YOieuJe4gwFR"
      },
      "source": [
        "pip install boto3"
      ],
      "execution_count": null,
      "outputs": []
    },
    {
      "cell_type": "code",
      "metadata": {
        "id": "iR_RXozXgw3D"
      },
      "source": [
        "import boto3\n",
        "from botocore.exceptions import NoCredentialsError\n",
        "ACCESS_KEY=pd.read_csv('file_k.txt',sep=',',header=None)[0].tolist()[0]\n",
        "SECRET_KEY=pd.read_csv('file_k.txt',sep=',',header=None)[1].tolist()[0]"
      ],
      "execution_count": null,
      "outputs": []
    },
    {
      "cell_type": "markdown",
      "metadata": {
        "id": "bCJgGtaDUERL"
      },
      "source": [
        "### Create bucket\n",
        "Se crear una funcion con el fin de poder suministrar el nombre del bucket que se desea crear"
      ]
    },
    {
      "cell_type": "code",
      "metadata": {
        "colab": {
          "base_uri": "https://localhost:8080/"
        },
        "id": "O5-rIr6uT4fd",
        "outputId": "f1eba398-251a-4e06-8e7e-2a7b601e4ab9"
      },
      "source": [
        "\n",
        "def create_bucket(name_bucket, LocationConstraint):\n",
        "    s3_client = boto3.client('s3', aws_access_key_id=ACCESS_KEY,\n",
        "                  aws_secret_access_key=SECRET_KEY)\n",
        "    try:\n",
        "        s3_client.create_bucket(Bucket=name_bucket,CreateBucketConfiguration={'LocationConstraint':LocationConstraint})\n",
        "        print(\"Bucket create Successful\")\n",
        "        return True\n",
        "    except :\n",
        "        print(\"Failed to create bucket\")\n",
        "        return False\n",
        "\n",
        "create_bucket( 'technicaltestbucket', 'us-east-2')\n"
      ],
      "execution_count": null,
      "outputs": [
        {
          "output_type": "stream",
          "name": "stdout",
          "text": [
            "Bucket create Successful\n"
          ]
        },
        {
          "output_type": "execute_result",
          "data": {
            "text/plain": [
              "True"
            ]
          },
          "metadata": {},
          "execution_count": 76
        }
      ]
    },
    {
      "cell_type": "markdown",
      "metadata": {
        "id": "uytpq08Ugd4g"
      },
      "source": [
        "### Load file S3\n",
        "Una vez creado el bucket y transformado el json se puede proceder a subir la informacion al s3"
      ]
    },
    {
      "cell_type": "code",
      "metadata": {
        "id": "QgnKw9mVPGLq"
      },
      "source": [
        "\n",
        "def upload_to_aws(local_file, bucket, s3_file):\n",
        "    s3 = boto3.client('s3', aws_access_key_id=ACCESS_KEY,\n",
        "                      aws_secret_access_key=SECRET_KEY)\n",
        "    try:\n",
        "        s3.upload_file(local_file, bucket, s3_file)\n",
        "        print(\"Upload Successful\")\n",
        "        return True\n",
        "    except FileNotFoundError:\n",
        "        print(\"The file was not found\")\n",
        "        return False\n",
        "    except NoCredentialsError:\n",
        "        print(\"Credentials not available\")\n",
        "        return False\n",
        "\n",
        "\n",
        "uploaded = upload_to_aws('technical_test_data_analyst1.json', 'technicaltestbucket', 'technical_test_data_analyst.json')\n"
      ],
      "execution_count": null,
      "outputs": []
    },
    {
      "cell_type": "markdown",
      "metadata": {
        "id": "Q_EuKEKSOKMd"
      },
      "source": [
        "### Uso Athena"
      ]
    },
    {
      "cell_type": "markdown",
      "metadata": {
        "id": "ybrijWqZOZaJ"
      },
      "source": [
        "### Creación de tabla \n",
        "1.Creación de Bd\n",
        "2.indicar donde se va guardar los resultados de los querys ejecutados en configuraciones\n",
        "\n",
        "```\n",
        "CREATE EXTERNAL TABLE IF NOT EXISTS inmuebles.inmueble (\n",
        "  activo STRING,\n",
        "  fecha_inicial STRING,\n",
        "  fecha_final STRING,\n",
        "  latitud STRING,\n",
        "  longitud STRING,\n",
        "  valorventa STRING,\n",
        "  valorarriendo STRING,\n",
        "  data STRING,\n",
        "  id STRING\n",
        ")\n",
        "ROW FORMAT SERDE 'org.openx.data.jsonserde.JsonSerDe'\n",
        "WITH SERDEPROPERTIES (\n",
        " 'serialization.format' = '1')\n",
        "LOCATION 's3://technicaltestbucket/Data/'\n",
        "```\n",
        "\n",
        "\n",
        "\n",
        "\n"
      ]
    },
    {
      "cell_type": "markdown",
      "metadata": {
        "id": "7ovg39b3O6dJ"
      },
      "source": [
        "### Creación de vista con atributos se emplean en la ejecución del analisis\n",
        "\n",
        "\n",
        "\n",
        "```\n",
        "CREATE OR REPLACE VIEW \"View_data_analyze\"\n",
        "AS \n",
        "select id,\n",
        "\tactivo,\n",
        "\tfecha_inicial,\n",
        "\tfecha_final,\n",
        "\tlatitud,\n",
        "\tlongitud,\n",
        "\tvalorventa,\n",
        "\tvalorarriendo,\n",
        "case\n",
        "\t\t\t\twhen ciudad like 'Bog%' then 'Bogota'\n",
        "\t\t\t\twhen ciudad like 'Cart%' then 'Cartagena'\n",
        "\t\t\t\twhen ciudad like 'Dos%' then 'Dosquebradas'\n",
        "\t\t\t\twhen ciudad like 'Ita%' then 'Itagüí'\n",
        "\t\t\t\twhen ciudad like 'Jamu%' then 'Jamundí' else ciudad\n",
        "\t\t\tend as ciudad,\n",
        "\t\t\tnum_banos, antiguedad,area_lote\n",
        "\t\t\tFrom (\n",
        "\n",
        "SELECT id,\n",
        "\tactivo,\n",
        "\tfecha_inicial,\n",
        "\tfecha_final,\n",
        "\tlatitud,\n",
        "\tlongitud,\n",
        "\tCAST(valorventa as DECIMAL) AS valorventa,\n",
        "\tCAST(valorarriendo as DECIMAL) AS valorarriendo,\n",
        "\tCAST(coalesce(\n",
        "\t\tjson_extract(replace(data, '''', '\"'), '$.ciudad'),\n",
        "\t\tjson_extract(replace(data, '''', '\"'), '$.city')\n",
        "\t)AS VARCHAR(12)) AS ciudad,\n",
        "\tCAST(json_extract(replace(data, '''', '\"'), '$.num_banos') AS INT) as num_banos,\n",
        "\tCAST(json_extract(replace(data, '''', '\"'), '$.antiguedad') AS INT )as antiguedad,\n",
        "\tCAST(json_extract(replace(data, '''', '\"'), '$.area_lote')AS int) as area_lote\n",
        "FROM \"inmuebles\".\"inmueble\")t\n",
        "```\n",
        "Nota: se observa que en el atributo data la llave que contiene el nombre de la ciudad en unos registros esta como ciudad y en otros como city, se procede hacer la intregación de esta información o la normalización de estos datos\n",
        "\n",
        "\n"
      ]
    },
    {
      "cell_type": "markdown",
      "metadata": {
        "id": "vXDzSWuvPpu5"
      },
      "source": [
        "### Creación de consultas solicitadas\n",
        "\n",
        "1. ¿Cómo están distribuidos los registros por ciudad?\n",
        "\n",
        "\n",
        "```\n",
        "CREATE OR REPLACE VIEW \"View_registros_ciudad\"\n",
        "AS SELECT\n",
        "    ciudad,\n",
        "\tcount(*) as registros_ciudad\n",
        "FROM View_data_analyze\n",
        "WHERE ciudad is not null\n",
        "GROUP BY ciudad\n",
        "ORDER BY 2 DESC;\n",
        "```\n",
        "\n",
        "2.¿Cuál es el valor de venta y arriendo máximo y mínimo por ciudad?\n",
        "\n",
        "\n",
        "```\n",
        "CREATE OR REPLACE VIEW \"view_value_Max_Min\"\n",
        "AS SELECT\n",
        "    ciudad,\n",
        "    MAX(valorventa) as max_venta,\n",
        "    MIN(valorventa) as min_venta,\n",
        "    MAX(valorarriendo) as max_arriendo,\n",
        "    MIN(valorarriendo) as min_arriendo\n",
        "\tFROM View_data_analyze\n",
        "\tWHERE ciudad is not null AND valorventa!= 0 or valorarriendo !=0\n",
        "\tGROUP BY 1\n",
        "\tORDER BY 1 ASC;\n",
        "```\n",
        "\n",
        "3.¿Listar el top 10 de los inmuebles más caros en valor de venta que presentan información de baños, antigüedad y área?\n",
        "\n",
        "\n",
        "```\n",
        "CREATE OR REPLACE VIEW \"Inmuebles_mayor_Valor_e_informacion\"\n",
        "AS SELECT\n",
        "    id,\n",
        "    valorventa,\n",
        "    num_banos,\n",
        "    antiguedad,\n",
        "    area_lote\n",
        "\tFROM View_data_analyze\n",
        "WHERE num_banos !=0 and antiguedad  !=0\n",
        "AND area_lote  !=0\n",
        "ORDER BY valorventa DESC\n",
        "LIMIT 10;\n",
        "```\n",
        "\n",
        "\n",
        "\n",
        "\n",
        "\n",
        "\n"
      ]
    },
    {
      "cell_type": "markdown",
      "metadata": {
        "id": "UtK7S-_yOhP_"
      },
      "source": [
        "CREATE EXTERNAL TABLE IF NOT EXISTS inmuebles.inmueble (\n",
        "  activo STRING,\n",
        "  fecha_inicial STRING,\n",
        "  fecha_final STRING,\n",
        "  latitud STRING,\n",
        "  longitud STRING,\n",
        "  valorventa STRING,\n",
        "  valorarriendo STRING,\n",
        "  data STRING,\n",
        "  id STRING\n",
        ")\n",
        "ROW FORMAT SERDE 'org.openx.data.jsonserde.JsonSerDe'\n",
        "WITH SERDEPROPERTIES (\n",
        " 'serialization.format' = '1')\n",
        "LOCATION 's3://technicaltestbucket/Data/'\n"
      ]
    },
    {
      "cell_type": "markdown",
      "metadata": {
        "id": "IbXEyGSIQ7ft"
      },
      "source": [
        "### Amazon SageMaker\n",
        "\n",
        "Se emplea esta herramienta de aws para poder crear una instancia de jupyter notebook y desde este poder conectar directo con las consultas creadas en Athena y poder disponer de los datos para sus diferentes usos"
      ]
    }
  ]
}